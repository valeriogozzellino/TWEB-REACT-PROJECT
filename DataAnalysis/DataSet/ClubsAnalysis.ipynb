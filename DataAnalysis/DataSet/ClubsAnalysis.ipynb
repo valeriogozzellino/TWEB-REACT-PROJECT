{
 "cells": [
  {
   "cell_type": "code",
   "execution_count": null,
   "metadata": {},
   "outputs": [],
   "source": [
    "\n",
    "#PER INSTALLARE LIBRERIA: pip3 install <nome_libreria>\n",
    "\n",
    "import pandas as pd  # per i dataframe  \n",
    "import numpy as np  # per i calcoli numerici\n",
    "import matplotlib.pyplot as plt # per i grafici\n",
    "import seaborn as sns # per i grafici\n",
    "import os   # per la gestione dei file\n",
    "import sys # per la gestione dei file\n",
    "import argparse  # per la gestione dei parametri da linea di comando\n",
    "import re # per le espressioni regolari\n",
    "import glob # per la gestione dei file\n",
    "import geopandas as gpd # per i dati geografici\n",
    "import matplotlib.pyplot as plt # per i grafici\n",
    "from geopy.geocoders import Nominatim\n",
    "from geopy.extra.rate_limiter import RateLimiter\n",
    "import folium as folium # per i grafici geografici\n",
    "pd.set_option('display.max_columns', None)\n",
    "import matplotlib.pyplot as plt"
   ]
  },
  {
   "cell_type": "markdown",
   "metadata": {},
   "source": [
    "*title*\n",
    "# TEMA DELL'ANALISI DEI DATI---> \"stategia di gioco e ipotesi\"\n",
    "\n",
    "### Analisi dei teams nei vari country, dedurre il tipo di gioco che hanno in base alle statistiche dei game, use: cartellini,  assist , goal, (formazione in campo) ,—> cercare di capire che tipo di gioco si adotta e generalizzare (tipo di gioco offensivo/ difensivo..) adattarlo nella mappa geografica ai country—> vedere il comportamento del club\n",
    "### sviluppo del gioco e delle prestazioni del team nel tempo con il manager\n",
    "\n",
    "- FATTO DA VALUTARE MEGLIO\n",
    "--> ci sono differenze se un club ha giocato in casa oppure no??? |\n",
    "--> valutare il club che in diverse season ha avuto il miglior risultato |\n",
    "--> nei club quali allenatori ha fatto performare meglio la squadra ? datasetGame |\n",
    "\n",
    "\n",
    "- DA FARE \n",
    "--> se valutabile, come si è comportato un club  che ha adottato formazioni diverse, come hanno influito nei game |\n",
    "--> vedere come un giocatore performa meglio e in quale posizione |\n",
    "--> club che avuto il più evidente peggioramento nel tempo |\n",
    "--> quali club sono stati costanti |\n",
    "\n",
    "\n",
    "\n",
    "\n",
    "--> quante partite internazionali/mondiali ha fatto una squadra ?\n",
    "---> quante ne competizioni internazionali/globali/domestic ha vinto una squadra rispetto ad altre \n",
    "\n",
    "\n",
    "--> dedurre dai gameEvent : per club--> per game--> number substitutions     guardo ch estrategia ha adottato il club \n",
    ",\n",
    "--> la differenza di country mi dice il tipo di gioco e quale club è migiore rispetto ad altri ?\n",
    "\n",
    "STRATEGIE DI GIOCO COME DEDURLE e a confronto \n",
    " 1 STEP ---> dedurre i clubs peggiori e migliori \n",
    " 2 STEP\n",
    " 3 STEP\n",
    " 4 STEP"
   ]
  },
  {
   "cell_type": "markdown",
   "metadata": {},
   "source": [
    "### Impot dataSet"
   ]
  },
  {
   "cell_type": "code",
   "execution_count": null,
   "metadata": {},
   "outputs": [],
   "source": [
    "dataClubs = pd.read_csv(\"./AssignmentData/clubs.csv\", sep=\",\", decimal=\".\")\n",
    "dataGames = pd.read_csv(\"./AssignmentData/games.csv\", sep=\",\", decimal=\".\")\n",
    "dataPlayers = pd.read_csv(\"./AssignmentData/players.csv\", sep=\",\", decimal=\".\")\n",
    "dataCompetitions = pd.read_csv(\"./AssignmentData/competitions.csv\", sep=\",\", decimal=\".\")\n",
    "dataGamesLineups = pd.read_csv(\"./AssignmentData/game_lineups.csv\", sep=\",\", decimal=\".\")\n",
    "dataGamesEvents = pd.read_csv(\"./AssignmentData/game_events.csv\", sep=\",\", decimal=\".\")\n",
    "dataAppearance = pd.read_csv(\"./AssignmentData/appearances.csv\", sep=\",\", decimal=\".\")\n",
    "dataPlayersValues = pd.read_csv(\"./AssignmentData/player_valuations.csv\", sep=\",\", decimal=\".\")\n",
    "\n"
   ]
  },
  {
   "cell_type": "code",
   "execution_count": null,
   "metadata": {},
   "outputs": [],
   "source": [
    "dataClubs"
   ]
  },
  {
   "cell_type": "code",
   "execution_count": null,
   "metadata": {},
   "outputs": [],
   "source": [
    "\n",
    "dataGames"
   ]
  },
  {
   "cell_type": "code",
   "execution_count": null,
   "metadata": {},
   "outputs": [],
   "source": [
    "dataGamesLineups.head(100)"
   ]
  },
  {
   "cell_type": "code",
   "execution_count": null,
   "metadata": {},
   "outputs": [],
   "source": [
    "#dataGamesEvents\n",
    "dataGamesEvents"
   ]
  },
  {
   "cell_type": "markdown",
   "metadata": {},
   "source": [
    "# Creazione di una nuova tabella contenente gli eventi dei giocatori durante i games---> cartellini, assist, sostituzioni,goal, minuti giocati\n",
    "\n",
    "- DA FARE ANCHE SE VALUTABILE IN QUANTO BISOGNA COLLEGARLA AL TEMA PRINCIPALE SULLA STRATEGIA E VALUTAZIONE DEI TEAMS\n",
    "\n",
    "---> valutazione del miglior giocatore in campo globale\n",
    "\n",
    "---> per ogni club possibile valutazione del miglior giocatore \n",
    "\n",
    "---> comportamento PEGGIORE di un  giocatore attraverso la valutazione dei cartellini presi\n",
    "\n",
    "---> comportamento MIGLIORE di un  giocatore attraverso la valutazione dei cartellini presi\n",
    "\n",
    "---> miglior giocatore per la quantità di assist \n"
   ]
  },
  {
   "cell_type": "code",
   "execution_count": null,
   "metadata": {},
   "outputs": [],
   "source": [
    "# Seleziona solo le colonne di interesse\n",
    "columns_to_select = ['player_id', 'card_type', 'minute', 'goal_type', 'assist_type', 'player_assist_id', 'description']\n",
    "new_data_Players_performance = dataGamesEvents[columns_to_select]\n",
    "new_data_Players_performance = pd.merge(new_data_Players_performance, dataPlayers, left_on='player_id', right_on='player_id', how='left')\n",
    "new_data_Players_performance\n",
    "\n",
    "\n",
    "# Crea colonne separate per i diversi tipi di eventi\n",
    "# new_data['card_type'] = new_data['card_type'].apply(lambda x: x if pd.notna(x) else None)\n",
    "# new_data['goal_type'] = new_data['goal_type'].apply(lambda x: x if pd.notna(x) else None)\n",
    "# new_data['assist_type'] = new_data['assist_type'].apply(lambda x: x if pd.notna(x) else None)\n",
    "\n",
    "# # Raggruppa i dati per player_id e aggrega le colonne usando 'first' per ottenere il primo valore non mancante\n",
    "# new_data = new_data.groupby('player_id').agg({\n",
    "#     'card_type': 'first',\n",
    "#     'minute': 'first',\n",
    "#     'goal_type': 'first',\n",
    "#     'assist_type': 'first',\n",
    "#     'player_assist_id': 'first',\n",
    "#     'description': 'first'\n",
    "# }).reset_index()\n",
    "\n",
    "# Effettua il merge con la tabella dei giocatori\n",
    "\n",
    "# Visualizza la nuova tabella\n"
   ]
  },
  {
   "cell_type": "markdown",
   "metadata": {},
   "source": [
    "## tabella che elenca i giocatori che hanno fatto assist nei game"
   ]
  },
  {
   "cell_type": "code",
   "execution_count": null,
   "metadata": {},
   "outputs": [],
   "source": [
    "columns_to_select = ['player_id', 'minute', 'goal_type', 'assist_type', 'player_assist_id']\n",
    "assist_Players_performance = dataGamesEvents[columns_to_select]\n",
    "assist_Players_performance = pd.merge(assist_Players_performance, dataPlayers, left_on='player_assist_id', right_on='player_id', how='left')\n",
    "assist_Players_performance"
   ]
  },
  {
   "cell_type": "markdown",
   "metadata": {},
   "source": [
    "# Calcola la distribuzione delle posizioni dei giocatori  del nostro dataset\n",
    "\n",
    "\n",
    "\n"
   ]
  },
  {
   "cell_type": "code",
   "execution_count": null,
   "metadata": {},
   "outputs": [],
   "source": [
    "\n",
    "position_distribution = dataPlayers['position'].value_counts()\n",
    "\n",
    "# Crea un grafico a barre\n",
    "plt.figure(figsize=(10, 6))\n",
    "position_distribution.plot(kind='bar', color='skyblue')\n",
    "plt.title('Distribuzione delle Posizioni dei Giocatori')\n",
    "plt.xlabel('Posizione')\n",
    "plt.ylabel('Numero di Giocatori')\n",
    "plt.xticks(rotation=45)\n",
    "plt.show()"
   ]
  },
  {
   "cell_type": "markdown",
   "metadata": {},
   "source": [
    "# Calcola la distribuzione dei tipi di cartellini\n",
    "- DA FARE \n",
    "--> possibile valutazione del numero di cartellini presi nelle diverse competizioni, in quale competizioni si prendono più cartellini---> può essere l'albitro con poca esperienza ad asseganarli senza criterio o il giocatore meno professionale?\n",
    " "
   ]
  },
  {
   "cell_type": "code",
   "execution_count": null,
   "metadata": {},
   "outputs": [],
   "source": [
    "card_distribution = dataGamesEvents['card_type'].value_counts()\n",
    "\n",
    "# Crea un grafico a barre\n",
    "plt.figure(figsize=(10, 6))\n",
    "card_distribution.plot(kind='bar', color='gold')\n",
    "plt.title('Distribuzione dei Cartellini Gialli e Rossi')\n",
    "plt.xlabel('Tipo di Cartellino')\n",
    "plt.ylabel('Numero di Cartellini')\n",
    "plt.xticks(rotation=45)\n",
    "plt.show()\n"
   ]
  },
  {
   "cell_type": "markdown",
   "metadata": {},
   "source": [
    "# Calcola la distribuzione delle nazionalità\n"
   ]
  },
  {
   "cell_type": "code",
   "execution_count": null,
   "metadata": {},
   "outputs": [],
   "source": [
    "nationality_distribution = dataPlayers['country_of_citizenship'].value_counts()[:10]  # Visualizza le prime 10 nazionalità\n",
    "\n",
    "# Crea un grafico a barre\n",
    "plt.figure(figsize=(12, 6))\n",
    "nationality_distribution.plot(kind='bar', color='mediumseagreen')\n",
    "plt.title('Distribuzione delle Nazionalità dei Giocatori')\n",
    "plt.xlabel('Nazionalità')\n",
    "plt.ylabel('Numero di Giocatori')\n",
    "plt.xticks(rotation=45)\n",
    "plt.show()\n"
   ]
  },
  {
   "cell_type": "markdown",
   "metadata": {},
   "source": [
    "# Calcola la distribuzione delle competizioni per paese\n"
   ]
  },
  {
   "cell_type": "code",
   "execution_count": null,
   "metadata": {},
   "outputs": [],
   "source": [
    "team_country_distribution = dataCompetitions['country_name'].value_counts()\n",
    "\n",
    "# Crea un grafico a barre\n",
    "plt.figure(figsize=(12, 6))\n",
    "team_country_distribution.plot(kind='bar', color='royalblue')\n",
    "plt.title('Distribuzione delle Squadre per Paese')\n",
    "plt.xlabel('Paese')\n",
    "plt.ylabel('Numero di Squadre')\n",
    "plt.xticks(rotation=45)\n",
    "plt.show()\n"
   ]
  },
  {
   "cell_type": "markdown",
   "metadata": {},
   "source": [
    "### creazione di un Grafico con la geolocalizzazione dei club nella mappa geografica \n",
    "\n",
    "#### NON FUNZIONANTE\n",
    "\n",
    "- problema causato dall non indicizzazione dei country in latitudine e longitudine capire come risolvere questa cosa !!!!!!!\n",
    "\n",
    "questo codice esegue il geocoding dei nomi dei paesi contenuti nella colonna 'country_name' del DataFrame mergedData e salva le coordinate geografiche corrispondenti nella nuova colonna 'location'. Queste coordinate possono poi essere utilizzate per rappresentare i club su una mappa geografica.\n"
   ]
  },
  {
   "cell_type": "code",
   "execution_count": null,
   "metadata": {},
   "outputs": [],
   "source": [
    "# Effettua il join tra i due DataFrame\n",
    "mergedData = pd.merge(dataClubs, dataCompetitions, left_on='domestic_competition_id', right_on='competition_id', how='left')\n",
    "\n",
    "# Inizializzazione del geolocalizzatore\n",
    "geolocator = Nominatim(user_agent=\"geoapiExercises\")\n",
    "geocode = RateLimiter(geolocator.geocode, min_delay_seconds=1)  # Aggiunge un ritardo tra le richieste\n",
    "\n",
    "# Applica il geocoding per ottenere latitudine e longitudine\n",
    "mergedData['location'] = mergedData['country_name'].apply(geocode)\n",
    "mergedData['point'] = mergedData['location'].apply(lambda loc: tuple(loc.point) if loc else None)\n",
    "\n",
    "# Estrai latitudine e longitudine in due colonne separate\n",
    "mergedData[['latitude', 'longitude', 'altitude']] = pd.DataFrame(mergedData['point'].tolist(), index=mergedData.index)\n",
    "\n",
    "# Creazione della mappa base\n",
    "mappa = folium.Map(location=[0, 0], zoom_start=2)\n",
    "\n",
    "# Aggiunta di un marker per ogni club nella mappa\n",
    "for idx, row in mergedData.iterrows():\n",
    "    if pd.notnull(row['latitude']) and pd.notnull(row['longitude']):\n",
    "        folium.Marker(\n",
    "            location=[row['latitude'], row['longitude']],\n",
    "            popup=row['club_id'],  # o qualsiasi altra informazione che vuoi mostrare\n",
    "        ).add_to(mappa)\n",
    "\n",
    "# Visualizzazione della mappa\n",
    "mappa"
   ]
  },
  {
   "cell_type": "markdown",
   "metadata": {},
   "source": [
    "# Effettua il join tra i due DataFrame\n",
    "clubs e competitions"
   ]
  },
  {
   "cell_type": "code",
   "execution_count": null,
   "metadata": {},
   "outputs": [],
   "source": [
    "\n",
    "mergedDataClubsCompet = pd.merge(dataClubs, dataCompetitions, left_on='domestic_competition_id', right_on='competition_id', how='left')\n",
    "mergedDataClubsCompet"
   ]
  },
  {
   "cell_type": "markdown",
   "metadata": {},
   "source": [
    "# Assumendo che i dati necessari siano in dataGameEvents\n",
    "# Analisi delle statistiche di gioco per club"
   ]
  },
  {
   "cell_type": "code",
   "execution_count": null,
   "metadata": {},
   "outputs": [],
   "source": [
    "dataGamesEvents"
   ]
  },
  {
   "cell_type": "code",
   "execution_count": null,
   "metadata": {},
   "outputs": [],
   "source": [
    "\n",
    "stats_by_club = dataGamesEvents.groupby('club_id').agg({\n",
    "    'goals': 'sum',\n",
    "    'assists': 'sum',\n",
    "    'card_type': 'sum',\n",
    "    'red_cards': 'sum'\n",
    "    # Aggiungi altre statistiche rilevanti qui\n",
    "}).reset_index()\n",
    "\n"
   ]
  },
  {
   "cell_type": "markdown",
   "metadata": {},
   "source": [
    "# Unisci con mergedData per ottenere i nomi dei club e i paesi\n"
   ]
  },
  {
   "cell_type": "code",
   "execution_count": null,
   "metadata": {},
   "outputs": [],
   "source": [
    "\n",
    "club_stats = pd.merge(stats_by_club, mergedData, left_on='club_id', right_on='id', how='left')"
   ]
  },
  {
   "cell_type": "markdown",
   "metadata": {},
   "source": [
    "# Prestazioni dei Club in Casa vs Trasferta\n",
    "Potresti voler confrontare le prestazioni dei club quando giocano in casa vs quando giocano in trasferta:"
   ]
  },
  {
   "cell_type": "code",
   "execution_count": null,
   "metadata": {},
   "outputs": [],
   "source": [
    "home_away_performance = dataGames.groupby(['club_id', 'is_home_game']).agg({\n",
    "    'goals': 'sum',\n",
    "    # Aggiungi altre statistiche rilevanti qui\n",
    "}).reset_index()"
   ]
  },
  {
   "cell_type": "markdown",
   "metadata": {},
   "source": [
    "# voglio trovare i club peggiori e i migliori e metterli in ordine\n",
    "trovare il numero di goal che ogni club ha fatto per nella sua competizione domestica \n",
    "numero di games giocati in casa e numero di quelli fuori casa per ogni clubs "
   ]
  },
  {
   "cell_type": "markdown",
   "metadata": {},
   "source": []
  },
  {
   "cell_type": "markdown",
   "metadata": {},
   "source": []
  },
  {
   "cell_type": "code",
   "execution_count": null,
   "metadata": {},
   "outputs": [],
   "source": [
    "# total_goals_home = dataGames.groupby(\"home_club_id\")[\"home_club_goals\"].sum()\n",
    "# total_goals_away = dataGames.groupby(\"away_club_id\")[\"away_club_goals\"].sum()\n",
    "# total_goals_home\n",
    "# total_goals_away\n",
    "#dataGames\n",
    "# Calcola il totale delle partite giocate da ciascuna squadra in casa\n",
    "home_games = dataGames['home_club_id'].value_counts().reset_index()\n",
    "home_games.columns = ['home_club_id', 'home_club_games']\n",
    "\n",
    "# Calcola il totale delle partite giocate da ciascuna squadra fuori casa\n",
    "away_games = dataGames['away_club_id'].value_counts().reset_index()\n",
    "away_games.columns = ['away_club_id', 'away_club_games']\n",
    "home_games"
   ]
  },
  {
   "cell_type": "markdown",
   "metadata": {},
   "source": []
  },
  {
   "cell_type": "markdown",
   "metadata": {},
   "source": [
    "# Aggregazione delle sul club per valutare le Partite fatte in casa e fatte fuori casa \n",
    "---> valutazione delle prestazioni di una squadra se ha performato meglio giocando in casa o fuori casa \n",
    "\n",
    "---> vedere le differenze di gioco di un club \n",
    "\n",
    "---> vedere che tipi di formazione ha adottato e che risultato ha ottenuto (per quelle che ci sono)\n",
    "\n",
    "---> statistiche di vincita e perdica che ha un manager---> valutazione del manager per numero di partite vinte/perse/pareggiate e fare una classifica \n",
    "\n",
    "--->   possibili analisi di CHAT GPT\n",
    "*Analisi dei goal segnati a casa e fuori casa:* Puoi calcolare la media dei goal segnati a casa e fuori casa per ciascuna squadra. Successivamente, puoi creare un grafico a barre per confrontare i goal segnati in casa e fuori casa per le squadre.\n",
    "\n",
    "*Analisi della posizione delle squadre in classifica:* Puoi calcolare la posizione media delle squadre in classifica quando giocano in casa e fuori casa. Quindi, crea un grafico a dispersione per visualizzare la relazione tra la posizione in classifica e i punti ottenuti in casa e fuori casa.\n",
    "\n",
    "*Analisi dell'andamento delle partite nel tempo:* Puoi tracciare un grafico a linee che mostra l'andamento dei goal segnati in casa e fuori casa nel corso delle stagioni.\n",
    "\n",
    "*Analisi dell'occupazione dello stadio:* Calcola la media dell'affluenza allo stadio per ciascuna partita e crea un grafico a barre per visualizzare l'occupazione media dello stadio nelle partite casalinghe e in trasferta.\n",
    "\n",
    "*Analisi delle partite aggregate:* Puoi calcolare la media dei goal segnati nelle partite aggregate in casa e fuori casa e confrontarle con un grafico a barre.\n",
    "\n",
    "*Analisi delle competizioni:* Crea un grafico a torta per mostrare la distribuzione delle partite per tipo di competizione (domestic league, domestic cup, ecc.).\n",
    "\n",
    "*Analisi delle vittorie in casa e in trasferta:* Calcola il numero di partite vinte in casa e in trasferta per ciascuna squadra e crea un grafico a barre per confrontare le vittorie.\n",
    "\n",
    "*Analisi delle differenze nei gol segnati e subiti:* Calcola la differenza tra i goal segnati e quelli subiti in casa e in trasferta per ciascuna squadra. Successivamente, crea un grafico a dispersione per visualizzare la relazione tra le differenze nei goal segnati e i punti ottenuti.\n",
    "\n",
    "*Analisi delle partite più frequenti:* Identifica le partite più frequenti (le coppie di squadre che si sono affrontate più spesso) e crea un grafico a barre per mostrarle.*\n",
    "\n",
    "*Analisi delle prestazioni degli allenatori: Puoi calcolare la media dei goal segnati e subiti sotto la gestione di ciascun allenatore e confrontare le prestazioni.*\n"
   ]
  },
  {
   "cell_type": "code",
   "execution_count": null,
   "metadata": {},
   "outputs": [],
   "source": [
    "home_away_performance = pd.merge(dataGames, dataGames, left_on='home_club_id', right_on='away_club_id', how='left')\n",
    "#home_away_performance = pd.merge(home_away_performance, home_games, left_on='club_id', right_on='home_club_id', how='left')"
   ]
  },
  {
   "cell_type": "code",
   "execution_count": null,
   "metadata": {},
   "outputs": [],
   "source": [
    "home_away_performance "
   ]
  },
  {
   "cell_type": "markdown",
   "metadata": {},
   "source": [
    "# Analisi dei goal segnati a casa e fuori casa\n"
   ]
  },
  {
   "cell_type": "code",
   "execution_count": null,
   "metadata": {},
   "outputs": [],
   "source": [
    "home_goals_mean = home_away_performance.groupby(\"home_club_name_x\")[\"home_club_goals_x\"].mean()\n",
    "away_goals_mean = home_away_performance.groupby(\"away_club_name_x\")[\"away_club_goals_x\"].mean()\n",
    "plt.figure(figsize=(40, 6))\n",
    "plt.bar(home_goals_mean.index, home_goals_mean, label=\"Goal Segnati in Casa\")\n",
    "plt.bar(away_goals_mean.index, away_goals_mean, label=\"Goal Segnati Fuori Casa\")\n",
    "plt.xticks(rotation=90)\n",
    "plt.xlabel(\"Squadre\")\n",
    "plt.ylabel(\"Media Goal\")\n",
    "plt.legend()\n",
    "plt.title(\"Media Goal Segnati per Squadra in Casa e Fuori Casa\")\n",
    "plt.show()\n"
   ]
  },
  {
   "cell_type": "markdown",
   "metadata": {},
   "source": [
    "# Analisi della posizione in classifica vs punti in casa e fuori casa\n"
   ]
  },
  {
   "cell_type": "code",
   "execution_count": null,
   "metadata": {},
   "outputs": [],
   "source": [
    "home_position_mean = home_away_performance.groupby(\"home_club_name_x\")[\"home_club_position_x\"].mean()\n",
    "away_position_mean = home_away_performance.groupby(\"away_club_name_x\")[\"away_club_position_x\"].mean()\n",
    "points_home = home_away_performance.groupby(\"home_club_name_x\")[\"home_club_goals_x\"].sum()\n",
    "points_away = home_away_performance.groupby(\"away_club_name_x\")[\"away_club_goals_x\"].sum()\n",
    "\n",
    "plt.figure(figsize=(12, 6))\n",
    "plt.scatter(home_position_mean, points_home, label=\"In Casa\")\n",
    "plt.scatter(away_position_mean, points_away, label=\"Fuori Casa\")\n",
    "plt.xlabel(\"Posizione in Classifica Media\")\n",
    "plt.ylabel(\"Punti Totali\")\n",
    "plt.legend()\n",
    "plt.title(\"Relazione tra Posizione in Classifica Media e Punti Segnati\")\n",
    "plt.show()"
   ]
  },
  {
   "cell_type": "markdown",
   "metadata": {},
   "source": [
    "# Analisi dell'andamento dei goal segnati nel tempo"
   ]
  },
  {
   "cell_type": "code",
   "execution_count": null,
   "metadata": {},
   "outputs": [],
   "source": [
    "\n",
    "goals_over_time = home_away_performance.groupby(\"season_x\")[[\"home_club_goals_x\", \"away_club_goals_x\"]].mean()\n",
    "\n",
    "plt.figure(figsize=(12, 6))\n",
    "goals_over_time.plot(kind=\"line\")\n",
    "plt.xlabel(\"Stagione\")\n",
    "plt.ylabel(\"Media Goal\")\n",
    "plt.legend([\"Goal Segnati in Casa\", \"Goal Segnati Fuori Casa\"])\n",
    "plt.title(\"Andamento dei Goal Segnati nel Tempo\")\n",
    "plt.show()"
   ]
  },
  {
   "cell_type": "markdown",
   "metadata": {},
   "source": [
    "## Valutazione del miglior manager in base alle prestazioni della squadra in casa e fuori casa \n",
    "\n",
    "DA MIGLIORARE E RENDERE PIù CHIARO"
   ]
  },
  {
   "cell_type": "code",
   "execution_count": null,
   "metadata": {},
   "outputs": [],
   "source": [
    "# Calcola la media dei punti ottenuti per partita in casa e fuori casa\n",
    "home_away_performance[\"points_per_match_home\"] = home_away_performance[\"home_club_goals_x\"] / home_away_performance[\"home_club_goals_x\"].count()\n",
    "home_away_performance[\"points_per_match_away\"] = home_away_performance[\"away_club_goals_x\"] / home_away_performance[\"away_club_goals_x\"].count()\n",
    "\n",
    "# Calcola il rapporto goal segnati e subiti in casa e fuori casa\n",
    "home_away_performance[\"goal_ratio_home\"] = home_away_performance[\"home_club_goals_x\"] / home_away_performance[\"away_club_goals_x\"].sum()\n",
    "home_away_performance[\"goal_ratio_away\"] = home_away_performance[\"away_club_goals_x\"] / home_away_performance[\"home_club_goals_x\"].sum()\n",
    "\n",
    "# Calcola la posizione in classifica media in casa e fuori casa\n",
    "home_away_performance[\"position_mean_home\"] = home_away_performance.groupby(\"home_club_name_x\")[\"home_club_position_x\"].mean()\n",
    "home_away_performance[\"position_mean_away\"] = home_away_performance.groupby(\"away_club_name_x\")[\"away_club_position_x\"].mean()\n",
    "\n",
    "# Calcola una valutazione dei manager\n",
    "home_away_performance[\"manager_rating\"] = (\n",
    "    (home_away_performance[\"points_per_match_home\"] + home_away_performance[\"points_per_match_away\"]) +\n",
    "    (home_away_performance[\"goal_ratio_home\"] + home_away_performance[\"goal_ratio_away\"]) +\n",
    "    (1 / home_away_performance[\"position_mean_home\"] + 1 / home_away_performance[\"position_mean_away\"])\n",
    ")\n",
    "\n",
    "# Ordina i manager in base alla valutazione\n",
    "manager_ratings = home_away_performance.groupby(\"home_club_manager_name_x\")[\"manager_rating\"].mean()\n",
    "manager_ratings = manager_ratings.sort_values(ascending=False)\n",
    "\n",
    "# Visualizza la classifica dei manager\n",
    "#print(manager_ratings.head(10))  # Mostra i primi 10 manager con la valutazione più alta\n",
    "manager_ratings"
   ]
  },
  {
   "cell_type": "code",
   "execution_count": null,
   "metadata": {},
   "outputs": [],
   "source": [
    "# Calcola il numero di partite vinte in casa per ogni manager\n",
    "home_wins = home_away_performance[(home_away_performance['home_club_goals_x'] > home_away_performance['away_club_goals_y'])].groupby('home_club_manager_name_x').size().reset_index(name='home_wins')\n",
    "\n",
    "# Calcola il numero di partite perse in casa per ogni manager\n",
    "home_losses = home_away_performance[(home_away_performance['home_club_goals_x'] < home_away_performance['away_club_goals_y'])].groupby('home_club_manager_name_x').size().reset_index(name='home_losses')\n",
    "\n",
    "# Calcola il numero di partite vinte fuori casa per ogni manager\n",
    "away_wins = home_away_performance[(home_away_performance['away_club_goals_x'] > home_away_performance['home_club_goals_x'])].groupby('away_club_manager_name_x').size().reset_index(name='away_wins')\n",
    "\n",
    "# Calcola il numero di partite perse fuori casa per ogni manager\n",
    "away_losses = home_away_performance[(home_away_performance['away_club_goals_y'] < home_away_performance['home_club_goals_y'])].groupby('away_club_manager_name_x').size().reset_index(name='away_losses')\n",
    "\n",
    "# Unisce i dati in un unico DataFrame\n",
    "manager_stats = home_wins.merge(home_losses, on='home_club_manager_name_x', how='outer')\n",
    "manager_stats = manager_stats.merge(away_wins, left_on='home_club_manager_name_x', right_on='away_club_manager_name_x', how='outer')\n",
    "manager_stats = manager_stats.merge(away_losses, on='away_club_manager_name_x', how='outer')\n",
    "\n",
    "# Riempie i valori mancanti con 0\n",
    "manager_stats = manager_stats.fillna(0)\n",
    "\n",
    "# Calcola il totale delle partite vinte e perse per ogni manager\n",
    "manager_stats['total_wins'] = manager_stats['home_wins'] + manager_stats['away_wins']\n",
    "manager_stats['total_losses'] = manager_stats['home_losses'] + manager_stats['away_losses']\n",
    "\n",
    "# Crea il grafico a barre\n",
    "plt.figure(figsize=(12, 6))\n",
    "plt.bar(manager_stats['home_club_manager_name_x'], manager_stats['total_wins'], label='Partite Vinte', alpha=0.7)\n",
    "plt.bar(manager_stats['home_club_manager_name_x'], manager_stats['total_losses'], label='Partite Perse', alpha=0.7, bottom=manager_stats['total_wins'])\n",
    "plt.xlabel('Manager')\n",
    "plt.ylabel('Numero di Partite')\n",
    "plt.title('Partite Vinte e Perse per Manager (in Casa e Fuori Casa)')\n",
    "plt.xticks(rotation=90)\n",
    "plt.legend()\n",
    "plt.show()"
   ]
  },
  {
   "cell_type": "markdown",
   "metadata": {},
   "source": [
    "\n"
   ]
  }
 ],
 "metadata": {
  "kernelspec": {
   "display_name": "Python 3",
   "language": "python",
   "name": "python3"
  },
  "language_info": {
   "codemirror_mode": {
    "name": "ipython",
    "version": 3
   },
   "file_extension": ".py",
   "mimetype": "text/x-python",
   "name": "python",
   "nbconvert_exporter": "python",
   "pygments_lexer": "ipython3",
   "version": "3.11.6"
  }
 },
 "nbformat": 4,
 "nbformat_minor": 2
}
